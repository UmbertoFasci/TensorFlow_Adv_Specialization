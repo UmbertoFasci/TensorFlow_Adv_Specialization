{
 "cells": [
  {
   "cell_type": "code",
   "execution_count": 1,
   "metadata": {},
   "outputs": [],
   "source": [
    "import tensorflow as tf\n",
    "from tensorflow.keras.layers import Dense"
   ]
  },
  {
   "cell_type": "code",
   "execution_count": null,
   "metadata": {},
   "outputs": [],
   "source": [
    "layer1 = Dense(32)\n",
    "layer2_1 = Dense(32)(layer1)\n",
    "layer2_2 = Dense(32)(layer1)\n",
    "layer2_3 = Dense(32)(layer1)\n",
    "layer2_4 = Dense(32)(layer1)\n",
    "\n",
    "merge = tf.keras.layers.Concatenate([layer2_1, layer2_2, layer2_3, layer2_4])"
   ]
  }
 ],
 "metadata": {
  "kernelspec": {
   "display_name": "Python 3.10.5",
   "language": "python",
   "name": "python3"
  },
  "language_info": {
   "codemirror_mode": {
    "name": "ipython",
    "version": 3
   },
   "file_extension": ".py",
   "mimetype": "text/x-python",
   "name": "python",
   "nbconvert_exporter": "python",
   "pygments_lexer": "ipython3",
   "version": "3.10.5"
  },
  "orig_nbformat": 4,
  "vscode": {
   "interpreter": {
    "hash": "27a859ebf2c16647442bc52e93a69977d8a106e247be91289f4566f8700a8dab"
   }
  }
 },
 "nbformat": 4,
 "nbformat_minor": 2
}
