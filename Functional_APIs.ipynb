{
 "cells": [
  {
   "cell_type": "code",
   "execution_count": null,
   "metadata": {},
   "outputs": [],
   "source": []
  }
 ],
 "metadata": {
  "kernelspec": {
   "display_name": "Python 3.10.5",
   "language": "python",
   "name": "python3"
  },
  "language_info": {
   "name": "python",
   "version": "3.10.5"
  },
  "orig_nbformat": 4,
  "vscode": {
   "interpreter": {
    "hash": "27a859ebf2c16647442bc52e93a69977d8a106e247be91289f4566f8700a8dab"
   }
  }
 },
 "nbformat": 4,
 "nbformat_minor": 2
}
